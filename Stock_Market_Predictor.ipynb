{
  "nbformat": 4,
  "nbformat_minor": 0,
  "metadata": {
    "colab": {
      "name": "Stock_Market_Predictor.ipynb",
      "provenance": [],
      "authorship_tag": "ABX9TyP6uAfXL/81HO8oHPOU9fh/",
      "include_colab_link": true
    },
    "kernelspec": {
      "name": "python3",
      "display_name": "Python 3"
    },
    "language_info": {
      "name": "python"
    }
  },
  "cells": [
    {
      "cell_type": "markdown",
      "metadata": {
        "id": "view-in-github",
        "colab_type": "text"
      },
      "source": [
        "<a href=\"https://colab.research.google.com/github/ShauryaSingh14/Stock-Market-Predictor/blob/main/Stock_Market_Predictor.ipynb\" target=\"_parent\"><img src=\"https://colab.research.google.com/assets/colab-badge.svg\" alt=\"Open In Colab\"/></a>"
      ]
    },
    {
      "cell_type": "code",
      "execution_count": null,
      "metadata": {
        "id": "KFwl-JLfEcBs"
      },
      "outputs": [],
      "source": [
        "import pandas as pd\n",
        "import numpy as np\n",
        "import pandas_datareader as pdr\n",
        "key=\"e0dff90bf96b7280a4fbdc67101d8d7d2972fea1\""
      ]
    },
    {
      "cell_type": "code",
      "source": [
        "df = pdr.get_data_tiingo('AAPL', api_key=key)"
      ],
      "metadata": {
        "colab": {
          "base_uri": "https://localhost:8080/"
        },
        "id": "R5Rw7X-ZErDB",
        "outputId": "48871922-b1d5-47db-e3cb-dbbe8bedb5a9"
      },
      "execution_count": null,
      "outputs": [
        {
          "output_type": "stream",
          "name": "stderr",
          "text": [
            "/usr/local/lib/python3.7/dist-packages/pandas_datareader/tiingo.py:234: FutureWarning: In a future version of pandas all arguments of concat except for the argument 'objs' will be keyword-only\n",
            "  return pd.concat(dfs, self._concat_axis)\n"
          ]
        }
      ]
    },
    {
      "cell_type": "code",
      "source": [
        "df.to_csv('AAPL.csv')"
      ],
      "metadata": {
        "id": "NuWhqkJsFQdN"
      },
      "execution_count": null,
      "outputs": []
    },
    {
      "cell_type": "code",
      "source": [
        "df=pd.read_csv('AAPL.csv')"
      ],
      "metadata": {
        "id": "rP5aIt-TGl0Z"
      },
      "execution_count": null,
      "outputs": []
    },
    {
      "cell_type": "code",
      "source": [
        "df.head()"
      ],
      "metadata": {
        "colab": {
          "base_uri": "https://localhost:8080/",
          "height": 357
        },
        "id": "WpoYs-PRGudN",
        "outputId": "1e455d70-761b-41d7-878c-410d3920fa40"
      },
      "execution_count": null,
      "outputs": [
        {
          "output_type": "execute_result",
          "data": {
            "text/plain": [
              "  symbol                       date   close    high       low    open  \\\n",
              "0   AAPL  2017-07-03 00:00:00+00:00  143.50  145.30  143.1000  144.88   \n",
              "1   AAPL  2017-07-05 00:00:00+00:00  144.09  144.79  142.7237  143.69   \n",
              "2   AAPL  2017-07-06 00:00:00+00:00  142.73  143.50  142.4100  143.02   \n",
              "3   AAPL  2017-07-07 00:00:00+00:00  144.18  144.75  142.9000  142.90   \n",
              "4   AAPL  2017-07-10 00:00:00+00:00  145.06  145.95  143.3700  144.11   \n",
              "\n",
              "     volume   adjClose    adjHigh     adjLow    adjOpen  adjVolume  divCash  \\\n",
              "0  14258300  33.955484  34.381406  33.860834  34.282024   57033200      0.0   \n",
              "1  20758795  34.095092  34.260728  33.771793  34.000442   83035180      0.0   \n",
              "2  23374374  33.773284  33.955484  33.697564  33.841905   93497496      0.0   \n",
              "3  18505351  34.116388  34.251263  33.813510  33.813510   74021404      0.0   \n",
              "4  21030466  34.324617  34.535212  33.924723  34.099824   84121864      0.0   \n",
              "\n",
              "   splitFactor  \n",
              "0          1.0  \n",
              "1          1.0  \n",
              "2          1.0  \n",
              "3          1.0  \n",
              "4          1.0  "
            ],
            "text/html": [
              "\n",
              "  <div id=\"df-84bd24f2-90d9-4e3c-91a2-6063b70f09fc\">\n",
              "    <div class=\"colab-df-container\">\n",
              "      <div>\n",
              "<style scoped>\n",
              "    .dataframe tbody tr th:only-of-type {\n",
              "        vertical-align: middle;\n",
              "    }\n",
              "\n",
              "    .dataframe tbody tr th {\n",
              "        vertical-align: top;\n",
              "    }\n",
              "\n",
              "    .dataframe thead th {\n",
              "        text-align: right;\n",
              "    }\n",
              "</style>\n",
              "<table border=\"1\" class=\"dataframe\">\n",
              "  <thead>\n",
              "    <tr style=\"text-align: right;\">\n",
              "      <th></th>\n",
              "      <th>symbol</th>\n",
              "      <th>date</th>\n",
              "      <th>close</th>\n",
              "      <th>high</th>\n",
              "      <th>low</th>\n",
              "      <th>open</th>\n",
              "      <th>volume</th>\n",
              "      <th>adjClose</th>\n",
              "      <th>adjHigh</th>\n",
              "      <th>adjLow</th>\n",
              "      <th>adjOpen</th>\n",
              "      <th>adjVolume</th>\n",
              "      <th>divCash</th>\n",
              "      <th>splitFactor</th>\n",
              "    </tr>\n",
              "  </thead>\n",
              "  <tbody>\n",
              "    <tr>\n",
              "      <th>0</th>\n",
              "      <td>AAPL</td>\n",
              "      <td>2017-07-03 00:00:00+00:00</td>\n",
              "      <td>143.50</td>\n",
              "      <td>145.30</td>\n",
              "      <td>143.1000</td>\n",
              "      <td>144.88</td>\n",
              "      <td>14258300</td>\n",
              "      <td>33.955484</td>\n",
              "      <td>34.381406</td>\n",
              "      <td>33.860834</td>\n",
              "      <td>34.282024</td>\n",
              "      <td>57033200</td>\n",
              "      <td>0.0</td>\n",
              "      <td>1.0</td>\n",
              "    </tr>\n",
              "    <tr>\n",
              "      <th>1</th>\n",
              "      <td>AAPL</td>\n",
              "      <td>2017-07-05 00:00:00+00:00</td>\n",
              "      <td>144.09</td>\n",
              "      <td>144.79</td>\n",
              "      <td>142.7237</td>\n",
              "      <td>143.69</td>\n",
              "      <td>20758795</td>\n",
              "      <td>34.095092</td>\n",
              "      <td>34.260728</td>\n",
              "      <td>33.771793</td>\n",
              "      <td>34.000442</td>\n",
              "      <td>83035180</td>\n",
              "      <td>0.0</td>\n",
              "      <td>1.0</td>\n",
              "    </tr>\n",
              "    <tr>\n",
              "      <th>2</th>\n",
              "      <td>AAPL</td>\n",
              "      <td>2017-07-06 00:00:00+00:00</td>\n",
              "      <td>142.73</td>\n",
              "      <td>143.50</td>\n",
              "      <td>142.4100</td>\n",
              "      <td>143.02</td>\n",
              "      <td>23374374</td>\n",
              "      <td>33.773284</td>\n",
              "      <td>33.955484</td>\n",
              "      <td>33.697564</td>\n",
              "      <td>33.841905</td>\n",
              "      <td>93497496</td>\n",
              "      <td>0.0</td>\n",
              "      <td>1.0</td>\n",
              "    </tr>\n",
              "    <tr>\n",
              "      <th>3</th>\n",
              "      <td>AAPL</td>\n",
              "      <td>2017-07-07 00:00:00+00:00</td>\n",
              "      <td>144.18</td>\n",
              "      <td>144.75</td>\n",
              "      <td>142.9000</td>\n",
              "      <td>142.90</td>\n",
              "      <td>18505351</td>\n",
              "      <td>34.116388</td>\n",
              "      <td>34.251263</td>\n",
              "      <td>33.813510</td>\n",
              "      <td>33.813510</td>\n",
              "      <td>74021404</td>\n",
              "      <td>0.0</td>\n",
              "      <td>1.0</td>\n",
              "    </tr>\n",
              "    <tr>\n",
              "      <th>4</th>\n",
              "      <td>AAPL</td>\n",
              "      <td>2017-07-10 00:00:00+00:00</td>\n",
              "      <td>145.06</td>\n",
              "      <td>145.95</td>\n",
              "      <td>143.3700</td>\n",
              "      <td>144.11</td>\n",
              "      <td>21030466</td>\n",
              "      <td>34.324617</td>\n",
              "      <td>34.535212</td>\n",
              "      <td>33.924723</td>\n",
              "      <td>34.099824</td>\n",
              "      <td>84121864</td>\n",
              "      <td>0.0</td>\n",
              "      <td>1.0</td>\n",
              "    </tr>\n",
              "  </tbody>\n",
              "</table>\n",
              "</div>\n",
              "      <button class=\"colab-df-convert\" onclick=\"convertToInteractive('df-84bd24f2-90d9-4e3c-91a2-6063b70f09fc')\"\n",
              "              title=\"Convert this dataframe to an interactive table.\"\n",
              "              style=\"display:none;\">\n",
              "        \n",
              "  <svg xmlns=\"http://www.w3.org/2000/svg\" height=\"24px\"viewBox=\"0 0 24 24\"\n",
              "       width=\"24px\">\n",
              "    <path d=\"M0 0h24v24H0V0z\" fill=\"none\"/>\n",
              "    <path d=\"M18.56 5.44l.94 2.06.94-2.06 2.06-.94-2.06-.94-.94-2.06-.94 2.06-2.06.94zm-11 1L8.5 8.5l.94-2.06 2.06-.94-2.06-.94L8.5 2.5l-.94 2.06-2.06.94zm10 10l.94 2.06.94-2.06 2.06-.94-2.06-.94-.94-2.06-.94 2.06-2.06.94z\"/><path d=\"M17.41 7.96l-1.37-1.37c-.4-.4-.92-.59-1.43-.59-.52 0-1.04.2-1.43.59L10.3 9.45l-7.72 7.72c-.78.78-.78 2.05 0 2.83L4 21.41c.39.39.9.59 1.41.59.51 0 1.02-.2 1.41-.59l7.78-7.78 2.81-2.81c.8-.78.8-2.07 0-2.86zM5.41 20L4 18.59l7.72-7.72 1.47 1.35L5.41 20z\"/>\n",
              "  </svg>\n",
              "      </button>\n",
              "      \n",
              "  <style>\n",
              "    .colab-df-container {\n",
              "      display:flex;\n",
              "      flex-wrap:wrap;\n",
              "      gap: 12px;\n",
              "    }\n",
              "\n",
              "    .colab-df-convert {\n",
              "      background-color: #E8F0FE;\n",
              "      border: none;\n",
              "      border-radius: 50%;\n",
              "      cursor: pointer;\n",
              "      display: none;\n",
              "      fill: #1967D2;\n",
              "      height: 32px;\n",
              "      padding: 0 0 0 0;\n",
              "      width: 32px;\n",
              "    }\n",
              "\n",
              "    .colab-df-convert:hover {\n",
              "      background-color: #E2EBFA;\n",
              "      box-shadow: 0px 1px 2px rgba(60, 64, 67, 0.3), 0px 1px 3px 1px rgba(60, 64, 67, 0.15);\n",
              "      fill: #174EA6;\n",
              "    }\n",
              "\n",
              "    [theme=dark] .colab-df-convert {\n",
              "      background-color: #3B4455;\n",
              "      fill: #D2E3FC;\n",
              "    }\n",
              "\n",
              "    [theme=dark] .colab-df-convert:hover {\n",
              "      background-color: #434B5C;\n",
              "      box-shadow: 0px 1px 3px 1px rgba(0, 0, 0, 0.15);\n",
              "      filter: drop-shadow(0px 1px 2px rgba(0, 0, 0, 0.3));\n",
              "      fill: #FFFFFF;\n",
              "    }\n",
              "  </style>\n",
              "\n",
              "      <script>\n",
              "        const buttonEl =\n",
              "          document.querySelector('#df-84bd24f2-90d9-4e3c-91a2-6063b70f09fc button.colab-df-convert');\n",
              "        buttonEl.style.display =\n",
              "          google.colab.kernel.accessAllowed ? 'block' : 'none';\n",
              "\n",
              "        async function convertToInteractive(key) {\n",
              "          const element = document.querySelector('#df-84bd24f2-90d9-4e3c-91a2-6063b70f09fc');\n",
              "          const dataTable =\n",
              "            await google.colab.kernel.invokeFunction('convertToInteractive',\n",
              "                                                     [key], {});\n",
              "          if (!dataTable) return;\n",
              "\n",
              "          const docLinkHtml = 'Like what you see? Visit the ' +\n",
              "            '<a target=\"_blank\" href=https://colab.research.google.com/notebooks/data_table.ipynb>data table notebook</a>'\n",
              "            + ' to learn more about interactive tables.';\n",
              "          element.innerHTML = '';\n",
              "          dataTable['output_type'] = 'display_data';\n",
              "          await google.colab.output.renderOutput(dataTable, element);\n",
              "          const docLink = document.createElement('div');\n",
              "          docLink.innerHTML = docLinkHtml;\n",
              "          element.appendChild(docLink);\n",
              "        }\n",
              "      </script>\n",
              "    </div>\n",
              "  </div>\n",
              "  "
            ]
          },
          "metadata": {},
          "execution_count": 12
        }
      ]
    },
    {
      "cell_type": "code",
      "source": [
        "df1=df.reset_index()['close']\n",
        "print(df1)"
      ],
      "metadata": {
        "id": "-egRdbyDGxH9"
      },
      "execution_count": null,
      "outputs": []
    },
    {
      "cell_type": "code",
      "source": [
        "import matplotlib.pyplot as plt\n",
        "plt.plot(df1)"
      ],
      "metadata": {
        "colab": {
          "base_uri": "https://localhost:8080/",
          "height": 282
        },
        "id": "g2Jyb3SgG1In",
        "outputId": "ac219d8a-5915-454b-80da-443a1dba57e4"
      },
      "execution_count": null,
      "outputs": [
        {
          "output_type": "execute_result",
          "data": {
            "text/plain": [
              "[<matplotlib.lines.Line2D at 0x7f17f823ced0>]"
            ]
          },
          "metadata": {},
          "execution_count": 16
        },
        {
          "output_type": "display_data",
          "data": {
            "text/plain": [
              "<Figure size 432x288 with 1 Axes>"
            ],
            "image/png": "[encoded data removed]"
          },
          "metadata": {
            "needs_background": "light"
          }
        }
      ]
    },
    {
      "cell_type": "code",
      "source": [
        "from sklearn.preprocessing import MinMaxScaler\n",
        "scaler=MinMaxScaler(feature_range=(0,1))\n",
        "df1=scaler.fit_transform(np.array(df1).reshape(-1,1))\n",
        "print(df1)"
      ],
      "metadata": {
        "colab": {
          "base_uri": "https://localhost:8080/"
        },
        "id": "iCaBBIumG7Fa",
        "outputId": "b44bb1dd-261a-4671-ba14-004a7a2e75b1"
      },
      "execution_count": null,
      "outputs": [
        {
          "output_type": "stream",
          "name": "stdout",
          "text": [
            "[[0.09182217]\n",
            " [0.09329994]\n",
            " [0.08989355]\n",
            " ...\n",
            " [0.07664371]\n",
            " [0.08112711]\n",
            " [0.07484033]]\n"
          ]
        }
      ]
    },
    {
      "cell_type": "markdown",
      "source": [
        "splitting dataset into train and test split"
      ],
      "metadata": {
        "id": "eLR5GAecHW1C"
      }
    },
    {
      "cell_type": "code",
      "source": [
        "training_size=int(len(df1)*0.65)\n",
        "test_size=len(df1)-training_size\n",
        "train_data,test_data=df1[0:training_size,:],df1[training_size:len(df1),:1]"
      ],
      "metadata": {
        "id": "OCWq4SkQHM-d"
      },
      "execution_count": null,
      "outputs": []
    },
    {
      "cell_type": "code",
      "source": [
        "training_size,test_size"
      ],
      "metadata": {
        "colab": {
          "base_uri": "https://localhost:8080/"
        },
        "id": "-15SpbsqHUyg",
        "outputId": "9faebc48-c891-4809-a3dc-499ada7da580"
      },
      "execution_count": null,
      "outputs": [
        {
          "output_type": "execute_result",
          "data": {
            "text/plain": [
              "(817, 441)"
            ]
          },
          "metadata": {},
          "execution_count": 21
        }
      ]
    },
    {
      "cell_type": "code",
      "source": [
        "import numpy\n",
        "# convert an array of values into a dataset matrix\n",
        "def create_dataset(dataset, time_step=1):\n",
        "\tdataX, dataY = [], []\n",
        "\tfor i in range(len(dataset)-time_step-1):\n",
        "\t\ta = dataset[i:(i+time_step), 0]  \n",
        "\t\tdataX.append(a)\n",
        "\t\tdataY.append(dataset[i + time_step, 0])\n",
        "\treturn numpy.array(dataX), numpy.array(dataY)"
      ],
      "metadata": {
        "id": "Z6iJbjhEHd77"
      },
      "execution_count": null,
      "outputs": []
    },
    {
      "cell_type": "code",
      "source": [
        "# reshape into X=t,t+1,t+2,t+3 and Y=t+4\n",
        "time_step = 100\n",
        "X_train, y_train = create_dataset(train_data, time_step)\n",
        "X_test, ytest = create_dataset(test_data, time_step)\n"
      ],
      "metadata": {
        "id": "jNnywmtEHjJu"
      },
      "execution_count": null,
      "outputs": []
    },
    {
      "cell_type": "code",
      "source": [
        "# reshape input to be [samples, time steps, features] which is required for LSTM\n",
        "X_train =X_train.reshape(X_train.shape[0],X_train.shape[1] , 1)\n",
        "X_test = X_test.reshape(X_test.shape[0],X_test.shape[1] , 1)"
      ],
      "metadata": {
        "id": "nSWF0WJLJYW5"
      },
      "execution_count": null,
      "outputs": []
    },
    {
      "cell_type": "code",
      "source": [
        "### Create the Stacked LSTM model\n",
        "from tensorflow.keras.models import Sequential\n",
        "from tensorflow.keras.layers import Dense\n",
        "from tensorflow.keras.layers import LSTM"
      ],
      "metadata": {
        "id": "qHvcBUsPJaUE"
      },
      "execution_count": null,
      "outputs": []
    },
    {
      "cell_type": "code",
      "source": [
        "model=Sequential()\n",
        "model.add(LSTM(50,return_sequences=True,input_shape=(100,1)))\n",
        "model.add(LSTM(50,return_sequences=True))\n",
        "model.add(LSTM(50))\n",
        "model.add(Dense(1))\n",
        "model.compile(loss='mean_squared_error',optimizer='adam')"
      ],
      "metadata": {
        "id": "v_0wxWFIJcG-"
      },
      "execution_count": null,
      "outputs": []
    },
    {
      "cell_type": "code",
      "source": [
        "model.summary()"
      ],
      "metadata": {
        "colab": {
          "base_uri": "https://localhost:8080/"
        },
        "id": "Oh8CFwlwJeTK",
        "outputId": "f4890abf-2413-4502-af92-8bb14011dc29"
      },
      "execution_count": null,
      "outputs": [
        {
          "output_type": "stream",
          "name": "stdout",
          "text": [
            "Model: \"sequential\"\n",
            "_________________________________________________________________\n",
            " Layer (type)                Output Shape              Param #   \n",
            "=================================================================\n",
            " lstm (LSTM)                 (None, 100, 50)           10400     \n",
            "                                                                 \n",
            " lstm_1 (LSTM)               (None, 100, 50)           20200     \n",
            "                                                                 \n",
            " lstm_2 (LSTM)               (None, 50)                20200     \n",
            "                                                                 \n",
            " dense (Dense)               (None, 1)                 51        \n",
            "                                                                 \n",
            "=================================================================\n",
            "Total params: 50,851\n",
            "Trainable params: 50,851\n",
            "Non-trainable params: 0\n",
            "_________________________________________________________________\n"
          ]
        }
      ]
    },
    {
      "cell_type": "code",
      "source": [
        "model.fit(X_train,y_train,validation_data=(X_test,ytest),epochs=100,batch_size=64,verbose=1) "
      ],
      "metadata": {
        "colab": {
          "base_uri": "https://localhost:8080/"
        },
        "id": "J-111M0kKAY2",
        "outputId": "0d2fe358-eb62-45e0-cfea-c14f4bb90b57"
      },
      "execution_count": null,
      "outputs": [
        {
          "output_type": "stream",
          "name": "stdout",
          "text": [
            "Epoch 1/100\n",
            "12/12 [==============================] - 12s 295ms/step - loss: 0.0505 - val_loss: 0.0057\n",
            "Epoch 2/100\n",
            "12/12 [==============================] - 2s 186ms/step - loss: 0.0184 - val_loss: 0.0096\n",
            "Epoch 3/100\n",
            "12/12 [==============================] - 2s 185ms/step - loss: 0.0127 - val_loss: 0.0026\n",
            "Epoch 4/100\n",
            "12/12 [==============================] - 2s 189ms/step - loss: 0.0102 - val_loss: 0.0021\n",
            "Epoch 5/100\n",
            "12/12 [==============================] - 2s 186ms/step - loss: 0.0094 - val_loss: 3.4510e-04\n",
            "Epoch 6/100\n",
            "12/12 [==============================] - 3s 277ms/step - loss: 0.0087 - val_loss: 3.1806e-04\n",
            "Epoch 7/100\n",
            "12/12 [==============================] - 2s 187ms/step - loss: 0.0078 - val_loss: 2.6586e-04\n",
            "Epoch 8/100\n",
            "12/12 [==============================] - 2s 185ms/step - loss: 0.0083 - val_loss: 0.0016\n",
            "Epoch 9/100\n",
            "12/12 [==============================] - 2s 187ms/step - loss: 0.0083 - val_loss: 0.0052\n",
            "Epoch 10/100\n",
            "12/12 [==============================] - 2s 188ms/step - loss: 0.0073 - val_loss: 2.2452e-04\n",
            "Epoch 11/100\n",
            "12/12 [==============================] - 2s 185ms/step - loss: 0.0054 - val_loss: 4.8320e-04\n",
            "Epoch 12/100\n",
            "12/12 [==============================] - 2s 185ms/step - loss: 0.0057 - val_loss: 2.5597e-04\n",
            "Epoch 13/100\n",
            "12/12 [==============================] - 2s 184ms/step - loss: 0.0048 - val_loss: 2.6399e-04\n",
            "Epoch 14/100\n",
            "12/12 [==============================] - 2s 186ms/step - loss: 0.0045 - val_loss: 2.9589e-04\n",
            "Epoch 15/100\n",
            "12/12 [==============================] - 2s 186ms/step - loss: 0.0040 - val_loss: 5.3162e-04\n",
            "Epoch 16/100\n",
            "12/12 [==============================] - 2s 186ms/step - loss: 0.0046 - val_loss: 4.2449e-04\n",
            "Epoch 17/100\n",
            "12/12 [==============================] - 3s 224ms/step - loss: 0.0042 - val_loss: 9.1048e-04\n",
            "Epoch 18/100\n",
            "12/12 [==============================] - 2s 185ms/step - loss: 0.0042 - val_loss: 4.4825e-04\n",
            "Epoch 19/100\n",
            "12/12 [==============================] - 2s 187ms/step - loss: 0.0039 - val_loss: 3.1790e-04\n",
            "Epoch 20/100\n",
            "12/12 [==============================] - 2s 185ms/step - loss: 0.0036 - val_loss: 3.0733e-04\n",
            "Epoch 21/100\n",
            "12/12 [==============================] - 3s 294ms/step - loss: 0.0036 - val_loss: 2.7588e-04\n",
            "Epoch 22/100\n",
            "12/12 [==============================] - 3s 257ms/step - loss: 0.0029 - val_loss: 3.2635e-04\n",
            "Epoch 23/100\n",
            "12/12 [==============================] - 2s 187ms/step - loss: 0.0028 - val_loss: 3.4076e-04\n",
            "Epoch 24/100\n",
            "12/12 [==============================] - 2s 184ms/step - loss: 0.0029 - val_loss: 2.4534e-04\n",
            "Epoch 25/100\n",
            "12/12 [==============================] - 2s 187ms/step - loss: 0.0028 - val_loss: 2.3710e-04\n",
            "Epoch 26/100\n",
            "12/12 [==============================] - 2s 183ms/step - loss: 0.0024 - val_loss: 2.1562e-04\n",
            "Epoch 27/100\n",
            "12/12 [==============================] - 2s 187ms/step - loss: 0.0021 - val_loss: 1.9453e-04\n",
            "Epoch 28/100\n",
            "12/12 [==============================] - 2s 188ms/step - loss: 0.0029 - val_loss: 1.9808e-04\n",
            "Epoch 29/100\n",
            "12/12 [==============================] - 2s 187ms/step - loss: 0.0029 - val_loss: 2.1861e-04\n",
            "Epoch 30/100\n",
            "12/12 [==============================] - 2s 188ms/step - loss: 0.0022 - val_loss: 1.9230e-04\n",
            "Epoch 31/100\n",
            "12/12 [==============================] - 2s 188ms/step - loss: 0.0021 - val_loss: 1.8931e-04\n",
            "Epoch 32/100\n",
            "12/12 [==============================] - 2s 188ms/step - loss: 0.0021 - val_loss: 2.4742e-04\n",
            "Epoch 33/100\n",
            "12/12 [==============================] - 2s 189ms/step - loss: 0.0022 - val_loss: 1.9385e-04\n",
            "Epoch 34/100\n",
            "12/12 [==============================] - 2s 187ms/step - loss: 0.0021 - val_loss: 2.0320e-04\n",
            "Epoch 35/100\n",
            "12/12 [==============================] - 2s 187ms/step - loss: 0.0017 - val_loss: 1.9170e-04\n",
            "Epoch 36/100\n",
            "12/12 [==============================] - 2s 189ms/step - loss: 0.0018 - val_loss: 3.6256e-04\n",
            "Epoch 37/100\n",
            "12/12 [==============================] - 2s 188ms/step - loss: 0.0023 - val_loss: 2.3941e-04\n",
            "Epoch 38/100\n",
            "12/12 [==============================] - 2s 187ms/step - loss: 0.0020 - val_loss: 3.2028e-04\n",
            "Epoch 39/100\n",
            "12/12 [==============================] - 2s 188ms/step - loss: 0.0021 - val_loss: 3.0005e-04\n",
            "Epoch 40/100\n",
            "12/12 [==============================] - 2s 189ms/step - loss: 0.0023 - val_loss: 2.2254e-04\n",
            "Epoch 41/100\n",
            "12/12 [==============================] - 2s 187ms/step - loss: 0.0017 - val_loss: 3.3910e-04\n",
            "Epoch 42/100\n",
            "12/12 [==============================] - 2s 187ms/step - loss: 0.0024 - val_loss: 2.5538e-04\n",
            "Epoch 43/100\n",
            "12/12 [==============================] - 2s 192ms/step - loss: 0.0018 - val_loss: 3.0911e-04\n",
            "Epoch 44/100\n",
            "12/12 [==============================] - 2s 187ms/step - loss: 0.0030 - val_loss: 0.0010\n",
            "Epoch 45/100\n",
            "12/12 [==============================] - 2s 187ms/step - loss: 0.0025 - val_loss: 3.0319e-04\n",
            "Epoch 46/100\n",
            "12/12 [==============================] - 2s 190ms/step - loss: 0.0015 - val_loss: 2.1454e-04\n",
            "Epoch 47/100\n",
            "12/12 [==============================] - 2s 191ms/step - loss: 0.0023 - val_loss: 1.9455e-04\n",
            "Epoch 48/100\n",
            "12/12 [==============================] - 2s 188ms/step - loss: 0.0018 - val_loss: 1.9152e-04\n",
            "Epoch 49/100\n",
            "12/12 [==============================] - 2s 186ms/step - loss: 0.0020 - val_loss: 2.7559e-04\n",
            "Epoch 50/100\n",
            "12/12 [==============================] - 2s 186ms/step - loss: 0.0018 - val_loss: 1.9234e-04\n",
            "Epoch 51/100\n",
            "12/12 [==============================] - 2s 185ms/step - loss: 0.0017 - val_loss: 2.7476e-04\n",
            "Epoch 52/100\n",
            "12/12 [==============================] - 2s 189ms/step - loss: 0.0018 - val_loss: 3.1845e-04\n",
            "Epoch 53/100\n",
            "12/12 [==============================] - 2s 186ms/step - loss: 0.0018 - val_loss: 2.0167e-04\n",
            "Epoch 54/100\n",
            "12/12 [==============================] - 2s 190ms/step - loss: 0.0020 - val_loss: 5.5606e-04\n",
            "Epoch 55/100\n",
            "12/12 [==============================] - 2s 187ms/step - loss: 0.0016 - val_loss: 3.0511e-04\n",
            "Epoch 56/100\n",
            "12/12 [==============================] - 2s 188ms/step - loss: 0.0024 - val_loss: 2.7577e-04\n",
            "Epoch 57/100\n",
            "12/12 [==============================] - 2s 188ms/step - loss: 0.0018 - val_loss: 3.6066e-04\n",
            "Epoch 58/100\n",
            "12/12 [==============================] - 2s 190ms/step - loss: 0.0019 - val_loss: 2.8195e-04\n",
            "Epoch 59/100\n",
            "12/12 [==============================] - 2s 189ms/step - loss: 0.0019 - val_loss: 2.2937e-04\n",
            "Epoch 60/100\n",
            "12/12 [==============================] - 2s 188ms/step - loss: 0.0016 - val_loss: 1.8941e-04\n",
            "Epoch 61/100\n",
            "12/12 [==============================] - 2s 190ms/step - loss: 0.0041 - val_loss: 0.0014\n",
            "Epoch 62/100\n",
            "12/12 [==============================] - 2s 191ms/step - loss: 0.0037 - val_loss: 1.9523e-04\n",
            "Epoch 63/100\n",
            "12/12 [==============================] - 3s 228ms/step - loss: 0.0030 - val_loss: 2.3785e-04\n",
            "Epoch 64/100\n",
            "12/12 [==============================] - 2s 190ms/step - loss: 0.0025 - val_loss: 3.0571e-04\n",
            "Epoch 65/100\n",
            "12/12 [==============================] - 2s 189ms/step - loss: 0.0018 - val_loss: 1.7401e-04\n",
            "Epoch 66/100\n",
            "12/12 [==============================] - 2s 191ms/step - loss: 0.0022 - val_loss: 1.7837e-04\n",
            "Epoch 67/100\n",
            "12/12 [==============================] - 2s 189ms/step - loss: 0.0020 - val_loss: 2.9051e-04\n",
            "Epoch 68/100\n",
            "12/12 [==============================] - 2s 187ms/step - loss: 0.0017 - val_loss: 1.7379e-04\n",
            "Epoch 69/100\n",
            "12/12 [==============================] - 2s 188ms/step - loss: 0.0015 - val_loss: 2.0369e-04\n",
            "Epoch 70/100\n",
            "12/12 [==============================] - 2s 187ms/step - loss: 0.0017 - val_loss: 2.6352e-04\n",
            "Epoch 71/100\n",
            "12/12 [==============================] - 3s 207ms/step - loss: 0.0016 - val_loss: 1.8164e-04\n",
            "Epoch 72/100\n",
            "12/12 [==============================] - 2s 186ms/step - loss: 0.0021 - val_loss: 9.0247e-04\n",
            "Epoch 73/100\n",
            "12/12 [==============================] - 2s 188ms/step - loss: 0.0022 - val_loss: 3.2525e-04\n",
            "Epoch 74/100\n",
            "12/12 [==============================] - 2s 190ms/step - loss: 0.0030 - val_loss: 5.9758e-04\n",
            "Epoch 75/100\n",
            "12/12 [==============================] - 2s 191ms/step - loss: 0.0024 - val_loss: 1.7607e-04\n",
            "Epoch 76/100\n",
            "12/12 [==============================] - 2s 190ms/step - loss: 0.0016 - val_loss: 2.4790e-04\n",
            "Epoch 77/100\n",
            "12/12 [==============================] - 2s 188ms/step - loss: 0.0016 - val_loss: 2.1117e-04\n",
            "Epoch 78/100\n",
            "12/12 [==============================] - 2s 187ms/step - loss: 0.0027 - val_loss: 5.0664e-04\n",
            "Epoch 79/100\n",
            "12/12 [==============================] - 2s 188ms/step - loss: 0.0018 - val_loss: 1.6348e-04\n",
            "Epoch 80/100\n",
            "12/12 [==============================] - 2s 192ms/step - loss: 0.0017 - val_loss: 1.8387e-04\n",
            "Epoch 81/100\n",
            "12/12 [==============================] - 2s 189ms/step - loss: 0.0018 - val_loss: 2.0952e-04\n",
            "Epoch 82/100\n",
            "12/12 [==============================] - 2s 189ms/step - loss: 0.0016 - val_loss: 1.6518e-04\n",
            "Epoch 83/100\n",
            "12/12 [==============================] - 2s 189ms/step - loss: 0.0013 - val_loss: 1.9247e-04\n",
            "Epoch 84/100\n",
            "12/12 [==============================] - 2s 190ms/step - loss: 0.0014 - val_loss: 2.0925e-04\n",
            "Epoch 85/100\n",
            "12/12 [==============================] - 2s 188ms/step - loss: 0.0015 - val_loss: 4.0505e-04\n",
            "Epoch 86/100\n",
            "12/12 [==============================] - 2s 189ms/step - loss: 0.0014 - val_loss: 2.3425e-04\n",
            "Epoch 87/100\n",
            "12/12 [==============================] - 2s 192ms/step - loss: 0.0026 - val_loss: 9.6257e-04\n",
            "Epoch 88/100\n",
            "12/12 [==============================] - 2s 189ms/step - loss: 0.0032 - val_loss: 0.0013\n",
            "Epoch 89/100\n",
            "12/12 [==============================] - 2s 190ms/step - loss: 0.0024 - val_loss: 1.9184e-04\n",
            "Epoch 90/100\n",
            "12/12 [==============================] - 2s 186ms/step - loss: 0.0018 - val_loss: 2.1903e-04\n",
            "Epoch 91/100\n",
            "12/12 [==============================] - 2s 188ms/step - loss: 0.0019 - val_loss: 1.8127e-04\n",
            "Epoch 92/100\n",
            "12/12 [==============================] - 2s 188ms/step - loss: 0.0018 - val_loss: 3.3907e-04\n",
            "Epoch 93/100\n",
            "12/12 [==============================] - 2s 190ms/step - loss: 0.0018 - val_loss: 3.0084e-04\n",
            "Epoch 94/100\n",
            "12/12 [==============================] - 2s 189ms/step - loss: 0.0014 - val_loss: 1.4651e-04\n",
            "Epoch 95/100\n",
            "12/12 [==============================] - 2s 190ms/step - loss: 0.0018 - val_loss: 2.3948e-04\n",
            "Epoch 96/100\n",
            "12/12 [==============================] - 2s 189ms/step - loss: 0.0013 - val_loss: 2.3253e-04\n",
            "Epoch 97/100\n",
            "12/12 [==============================] - 2s 188ms/step - loss: 0.0014 - val_loss: 1.5709e-04\n",
            "Epoch 98/100\n",
            "12/12 [==============================] - 2s 191ms/step - loss: 0.0012 - val_loss: 1.9951e-04\n",
            "Epoch 99/100\n",
            "12/12 [==============================] - 2s 188ms/step - loss: 0.0013 - val_loss: 2.9299e-04\n",
            "Epoch 100/100\n",
            "12/12 [==============================] - 2s 190ms/step - loss: 0.0015 - val_loss: 2.0009e-04\n"
          ]
        },
        {
          "output_type": "execute_result",
          "data": {
            "text/plain": [
              "<keras.callbacks.History at 0x7f17814a3e50>"
            ]
          },
          "metadata": {},
          "execution_count": 33
        }
      ]
    },
    {
      "cell_type": "code",
      "source": [
        "import tensorflow as tf"
      ],
      "metadata": {
        "id": "FcvsRcqmKHSA"
      },
      "execution_count": null,
      "outputs": []
    },
    {
      "cell_type": "code",
      "source": [
        "train_predict=model.predict(X_train)\n",
        "test_predict=model.predict(X_test)"
      ],
      "metadata": {
        "id": "0m8J47OhMMtI"
      },
      "execution_count": null,
      "outputs": []
    },
    {
      "cell_type": "code",
      "source": [
        "import math\n",
        "from sklearn.metrics import mean_squared_error\n",
        "math.sqrt(mean_squared_error(y_train,train_predict))"
      ],
      "metadata": {
        "colab": {
          "base_uri": "https://localhost:8080/"
        },
        "id": "LMUDK76dMPkE",
        "outputId": "fa2e6551-ef79-4931-a8d7-e5833e7ef214"
      },
      "execution_count": null,
      "outputs": [
        {
          "output_type": "execute_result",
          "data": {
            "text/plain": [
              "0.03273343789607035"
            ]
          },
          "metadata": {},
          "execution_count": 36
        }
      ]
    },
    {
      "cell_type": "code",
      "source": [
        "math.sqrt(mean_squared_error(ytest,test_predict))"
      ],
      "metadata": {
        "colab": {
          "base_uri": "https://localhost:8080/"
        },
        "id": "h6JNyABPMRkp",
        "outputId": "a1b80af3-0716-4e8b-f480-383d9e2578c9"
      },
      "execution_count": null,
      "outputs": [
        {
          "output_type": "execute_result",
          "data": {
            "text/plain": [
              "0.014145408466501716"
            ]
          },
          "metadata": {},
          "execution_count": 37
        }
      ]
    },
    {
      "cell_type": "code",
      "source": [
        "look_back=100\n",
        "trainPredictPlot = numpy.empty_like(df1)\n",
        "trainPredictPlot[:, :] = np.nan\n",
        "trainPredictPlot[look_back:len(train_predict)+look_back, :] = train_predict\n",
        "\n",
        "testPredictPlot = numpy.empty_like(df1)\n",
        "testPredictPlot[:, :] = numpy.nan\n",
        "testPredictPlot[len(train_predict)+(look_back*2)+1:len(df1)-1, :] = test_predict\n",
        "\n",
        "plt.plot(scaler.inverse_transform(df1))\n",
        "plt.plot(trainPredictPlot)\n",
        "plt.plot(testPredictPlot)\n",
        "plt.show()"
      ],
      "metadata": {
        "colab": {
          "base_uri": "https://localhost:8080/",
          "height": 265
        },
        "id": "Z2N88joIMT_a",
        "outputId": "dd57e1b5-c94e-4924-c8dc-9dc5d3090910"
      },
      "execution_count": null,
      "outputs": [
        {
          "output_type": "display_data",
          "data": {
            "text/plain": [
              "<Figure size 432x288 with 1 Axes>"
            ],
            "image/png": "[encoded data removed]"
          },
          "metadata": {
            "needs_background": "light"
          }
        }
      ]
    },
    {
      "cell_type": "code",
      "source": [
        "len(test_data)"
      ],
      "metadata": {
        "colab": {
          "base_uri": "https://localhost:8080/"
        },
        "id": "Bqxl2cVJMbmU",
        "outputId": "8dfaa72f-5d69-4ca4-df87-53e3a8b328b2"
      },
      "execution_count": null,
      "outputs": [
        {
          "output_type": "execute_result",
          "data": {
            "text/plain": [
              "441"
            ]
          },
          "metadata": {},
          "execution_count": 39
        }
      ]
    },
    {
      "cell_type": "code",
      "source": [
        "x_input=test_data[341:].reshape(1,-1)\n",
        "x_input.shape"
      ],
      "metadata": {
        "colab": {
          "base_uri": "https://localhost:8080/"
        },
        "id": "bB2qUG8_Mdh7",
        "outputId": "d62952aa-b361-4208-c24f-b0f09775b736"
      },
      "execution_count": null,
      "outputs": [
        {
          "output_type": "execute_result",
          "data": {
            "text/plain": [
              "(1, 100)"
            ]
          },
          "metadata": {},
          "execution_count": 45
        }
      ]
    },
    {
      "cell_type": "code",
      "source": [
        "temp_input=list(x_input)\n",
        "temp_input=temp_input[0].tolist()"
      ],
      "metadata": {
        "id": "lnli3K-kMzrc"
      },
      "execution_count": null,
      "outputs": []
    },
    {
      "cell_type": "code",
      "source": [
        "# demonstrate prediction for next 10 day\n",
        "from numpy import array\n",
        "\n",
        "lst_output=[]\n",
        "n_steps=100\n",
        "i=0\n",
        "while(i<30):\n",
        "  if(len(temp_input)>100):\n",
        "        #print(temp_input)\n",
        "        x_input=np.array(temp_input[1:])\n",
        "        print(\"{} day input {}\".format(i,x_input))\n",
        "        x_input=x_input.reshape(1,-1)\n",
        "        x_input = x_input.reshape((1, n_steps, 1))\n",
        "        #print(x_input)\n",
        "        yhat = model.predict(x_input, verbose=0)\n",
        "        print(\"{} day output {}\".format(i,yhat))\n",
        "        temp_input.extend(yhat[0].tolist())\n",
        "        temp_input=temp_input[1:]\n",
        "        #print(temp_input)\n",
        "        lst_output.extend(yhat.tolist())\n",
        "        i=i+1\n",
        "  else:\n",
        "        x_input = x_input.reshape((1, n_steps,1))\n",
        "        yhat = model.predict(x_input, verbose=0)\n",
        "        print(yhat[0])\n",
        "        temp_input.extend(yhat[0].tolist())\n",
        "        print(len(temp_input))\n",
        "        lst_output.extend(yhat.tolist())\n",
        "        i=i+1\n",
        "    \n",
        "\n",
        "print(lst_output)"
      ],
      "metadata": {
        "colab": {
          "base_uri": "https://localhost:8080/"
        },
        "id": "vKyShMJQMe-y",
        "outputId": "b7c1bbb0-e834-42f2-cf79-bb79d224b4d4"
      },
      "execution_count": null,
      "outputs": [
        {
          "output_type": "stream",
          "name": "stdout",
          "text": [
            "0 day input [0.15524108 0.1587226  0.16839073 0.17001879 0.17222292 0.1806387\n",
            " 0.17765811 0.16974327 0.16899186 0.17933626 0.17087038 0.16278021\n",
            " 0.16355667 0.15842204 0.14755166 0.15233563 0.1591985  0.1463995\n",
            " 0.14584847 0.15168441 0.15125861 0.14922981 0.13763306 0.14036318\n",
            " 0.12513463 0.12455855 0.14226675 0.12726362 0.12804008 0.13184721\n",
            " 0.14822793 0.12505949 0.12633688 0.11326237 0.11939887 0.09933626\n",
            " 0.08946775 0.10086412 0.09693175 0.10619912 0.08510958 0.07641828\n",
            " 0.07701941 0.09084534 0.08395742 0.08435817 0.09252348 0.107201\n",
            " 0.10519724 0.10487163 0.11113338 0.096531   0.09843456 0.10487163\n",
            " 0.10299311 0.08966813 0.07586725 0.0627176  0.06492173 0.07160927\n",
            " 0.05815905 0.06191609 0.07271133 0.07140889 0.0787226  0.08721353\n",
            " 0.08721353 0.07664371 0.08112711 0.07484033 0.08820945 0.08913901\n",
            " 0.09046349 0.09208858 0.09388103 0.09574293 0.09761816 0.09947968\n",
            " 0.10131653 0.10312529 0.10490532 0.10665686 0.10838029 0.11007589\n",
            " 0.11174408 0.11338528 0.1150001  0.11658917 0.11815333 0.11969346\n",
            " 0.12121043 0.12270518 0.12417862 0.12563169 0.12706521 0.12848003\n",
            " 0.12987688 0.13125645 0.13261934 0.13396619]\n",
            "0 day output [[0.13529742]]\n",
            "1 day input [0.1587226  0.16839073 0.17001879 0.17222292 0.1806387  0.17765811\n",
            " 0.16974327 0.16899186 0.17933626 0.17087038 0.16278021 0.16355667\n",
            " 0.15842204 0.14755166 0.15233563 0.1591985  0.1463995  0.14584847\n",
            " 0.15168441 0.15125861 0.14922981 0.13763306 0.14036318 0.12513463\n",
            " 0.12455855 0.14226675 0.12726362 0.12804008 0.13184721 0.14822793\n",
            " 0.12505949 0.12633688 0.11326237 0.11939887 0.09933626 0.08946775\n",
            " 0.10086412 0.09693175 0.10619912 0.08510958 0.07641828 0.07701941\n",
            " 0.09084534 0.08395742 0.08435817 0.09252348 0.107201   0.10519724\n",
            " 0.10487163 0.11113338 0.096531   0.09843456 0.10487163 0.10299311\n",
            " 0.08966813 0.07586725 0.0627176  0.06492173 0.07160927 0.05815905\n",
            " 0.06191609 0.07271133 0.07140889 0.0787226  0.08721353 0.08721353\n",
            " 0.07664371 0.08112711 0.07484033 0.08820945 0.08913901 0.09046349\n",
            " 0.09208858 0.09388103 0.09574293 0.09761816 0.09947968 0.10131653\n",
            " 0.10312529 0.10490532 0.10665686 0.10838029 0.11007589 0.11174408\n",
            " 0.11338528 0.1150001  0.11658917 0.11815333 0.11969346 0.12121043\n",
            " 0.12270518 0.12417862 0.12563169 0.12706521 0.12848003 0.12987688\n",
            " 0.13125645 0.13261934 0.13396619 0.13529742]\n",
            "1 day output [[0.13661358]]\n",
            "2 day input [0.16839073 0.17001879 0.17222292 0.1806387  0.17765811 0.16974327\n",
            " 0.16899186 0.17933626 0.17087038 0.16278021 0.16355667 0.15842204\n",
            " 0.14755166 0.15233563 0.1591985  0.1463995  0.14584847 0.15168441\n",
            " 0.15125861 0.14922981 0.13763306 0.14036318 0.12513463 0.12455855\n",
            " 0.14226675 0.12726362 0.12804008 0.13184721 0.14822793 0.12505949\n",
            " 0.12633688 0.11326237 0.11939887 0.09933626 0.08946775 0.10086412\n",
            " 0.09693175 0.10619912 0.08510958 0.07641828 0.07701941 0.09084534\n",
            " 0.08395742 0.08435817 0.09252348 0.107201   0.10519724 0.10487163\n",
            " 0.11113338 0.096531   0.09843456 0.10487163 0.10299311 0.08966813\n",
            " 0.07586725 0.0627176  0.06492173 0.07160927 0.05815905 0.06191609\n",
            " 0.07271133 0.07140889 0.0787226  0.08721353 0.08721353 0.07664371\n",
            " 0.08112711 0.07484033 0.08820945 0.08913901 0.09046349 0.09208858\n",
            " 0.09388103 0.09574293 0.09761816 0.09947968 0.10131653 0.10312529\n",
            " 0.10490532 0.10665686 0.10838029 0.11007589 0.11174408 0.11338528\n",
            " 0.1150001  0.11658917 0.11815333 0.11969346 0.12121043 0.12270518\n",
            " 0.12417862 0.12563169 0.12706521 0.12848003 0.12987688 0.13125645\n",
            " 0.13261934 0.13396619 0.13529742 0.13661358]\n",
            "2 day output [[0.13791505]]\n",
            "3 day input [0.17001879 0.17222292 0.1806387  0.17765811 0.16974327 0.16899186\n",
            " 0.17933626 0.17087038 0.16278021 0.16355667 0.15842204 0.14755166\n",
            " 0.15233563 0.1591985  0.1463995  0.14584847 0.15168441 0.15125861\n",
            " 0.14922981 0.13763306 0.14036318 0.12513463 0.12455855 0.14226675\n",
            " 0.12726362 0.12804008 0.13184721 0.14822793 0.12505949 0.12633688\n",
            " 0.11326237 0.11939887 0.09933626 0.08946775 0.10086412 0.09693175\n",
            " 0.10619912 0.08510958 0.07641828 0.07701941 0.09084534 0.08395742\n",
            " 0.08435817 0.09252348 0.107201   0.10519724 0.10487163 0.11113338\n",
            " 0.096531   0.09843456 0.10487163 0.10299311 0.08966813 0.07586725\n",
            " 0.0627176  0.06492173 0.07160927 0.05815905 0.06191609 0.07271133\n",
            " 0.07140889 0.0787226  0.08721353 0.08721353 0.07664371 0.08112711\n",
            " 0.07484033 0.08820945 0.08913901 0.09046349 0.09208858 0.09388103\n",
            " 0.09574293 0.09761816 0.09947968 0.10131653 0.10312529 0.10490532\n",
            " 0.10665686 0.10838029 0.11007589 0.11174408 0.11338528 0.1150001\n",
            " 0.11658917 0.11815333 0.11969346 0.12121043 0.12270518 0.12417862\n",
            " 0.12563169 0.12706521 0.12848003 0.12987688 0.13125645 0.13261934\n",
            " 0.13396619 0.13529742 0.13661358 0.13791505]\n",
            "3 day output [[0.13920212]]\n",
            "4 day input [0.17222292 0.1806387  0.17765811 0.16974327 0.16899186 0.17933626\n",
            " 0.17087038 0.16278021 0.16355667 0.15842204 0.14755166 0.15233563\n",
            " 0.1591985  0.1463995  0.14584847 0.15168441 0.15125861 0.14922981\n",
            " 0.13763306 0.14036318 0.12513463 0.12455855 0.14226675 0.12726362\n",
            " 0.12804008 0.13184721 0.14822793 0.12505949 0.12633688 0.11326237\n",
            " 0.11939887 0.09933626 0.08946775 0.10086412 0.09693175 0.10619912\n",
            " 0.08510958 0.07641828 0.07701941 0.09084534 0.08395742 0.08435817\n",
            " 0.09252348 0.107201   0.10519724 0.10487163 0.11113338 0.096531\n",
            " 0.09843456 0.10487163 0.10299311 0.08966813 0.07586725 0.0627176\n",
            " 0.06492173 0.07160927 0.05815905 0.06191609 0.07271133 0.07140889\n",
            " 0.0787226  0.08721353 0.08721353 0.07664371 0.08112711 0.07484033\n",
            " 0.08820945 0.08913901 0.09046349 0.09208858 0.09388103 0.09574293\n",
            " 0.09761816 0.09947968 0.10131653 0.10312529 0.10490532 0.10665686\n",
            " 0.10838029 0.11007589 0.11174408 0.11338528 0.1150001  0.11658917\n",
            " 0.11815333 0.11969346 0.12121043 0.12270518 0.12417862 0.12563169\n",
            " 0.12706521 0.12848003 0.12987688 0.13125645 0.13261934 0.13396619\n",
            " 0.13529742 0.13661358 0.13791505 0.13920212]\n",
            "4 day output [[0.14047524]]\n",
            "5 day input [0.1806387  0.17765811 0.16974327 0.16899186 0.17933626 0.17087038\n",
            " 0.16278021 0.16355667 0.15842204 0.14755166 0.15233563 0.1591985\n",
            " 0.1463995  0.14584847 0.15168441 0.15125861 0.14922981 0.13763306\n",
            " 0.14036318 0.12513463 0.12455855 0.14226675 0.12726362 0.12804008\n",
            " 0.13184721 0.14822793 0.12505949 0.12633688 0.11326237 0.11939887\n",
            " 0.09933626 0.08946775 0.10086412 0.09693175 0.10619912 0.08510958\n",
            " 0.07641828 0.07701941 0.09084534 0.08395742 0.08435817 0.09252348\n",
            " 0.107201   0.10519724 0.10487163 0.11113338 0.096531   0.09843456\n",
            " 0.10487163 0.10299311 0.08966813 0.07586725 0.0627176  0.06492173\n",
            " 0.07160927 0.05815905 0.06191609 0.07271133 0.07140889 0.0787226\n",
            " 0.08721353 0.08721353 0.07664371 0.08112711 0.07484033 0.08820945\n",
            " 0.08913901 0.09046349 0.09208858 0.09388103 0.09574293 0.09761816\n",
            " 0.09947968 0.10131653 0.10312529 0.10490532 0.10665686 0.10838029\n",
            " 0.11007589 0.11174408 0.11338528 0.1150001  0.11658917 0.11815333\n",
            " 0.11969346 0.12121043 0.12270518 0.12417862 0.12563169 0.12706521\n",
            " 0.12848003 0.12987688 0.13125645 0.13261934 0.13396619 0.13529742\n",
            " 0.13661358 0.13791505 0.13920212 0.14047524]\n",
            "5 day output [[0.14173466]]\n",
            "6 day input [0.17765811 0.16974327 0.16899186 0.17933626 0.17087038 0.16278021\n",
            " 0.16355667 0.15842204 0.14755166 0.15233563 0.1591985  0.1463995\n",
            " 0.14584847 0.15168441 0.15125861 0.14922981 0.13763306 0.14036318\n",
            " 0.12513463 0.12455855 0.14226675 0.12726362 0.12804008 0.13184721\n",
            " 0.14822793 0.12505949 0.12633688 0.11326237 0.11939887 0.09933626\n",
            " 0.08946775 0.10086412 0.09693175 0.10619912 0.08510958 0.07641828\n",
            " 0.07701941 0.09084534 0.08395742 0.08435817 0.09252348 0.107201\n",
            " 0.10519724 0.10487163 0.11113338 0.096531   0.09843456 0.10487163\n",
            " 0.10299311 0.08966813 0.07586725 0.0627176  0.06492173 0.07160927\n",
            " 0.05815905 0.06191609 0.07271133 0.07140889 0.0787226  0.08721353\n",
            " 0.08721353 0.07664371 0.08112711 0.07484033 0.08820945 0.08913901\n",
            " 0.09046349 0.09208858 0.09388103 0.09574293 0.09761816 0.09947968\n",
            " 0.10131653 0.10312529 0.10490532 0.10665686 0.10838029 0.11007589\n",
            " 0.11174408 0.11338528 0.1150001  0.11658917 0.11815333 0.11969346\n",
            " 0.12121043 0.12270518 0.12417862 0.12563169 0.12706521 0.12848003\n",
            " 0.12987688 0.13125645 0.13261934 0.13396619 0.13529742 0.13661358\n",
            " 0.13791505 0.13920212 0.14047524 0.14173466]\n",
            "6 day output [[0.14298066]]\n",
            "7 day input [0.16974327 0.16899186 0.17933626 0.17087038 0.16278021 0.16355667\n",
            " 0.15842204 0.14755166 0.15233563 0.1591985  0.1463995  0.14584847\n",
            " 0.15168441 0.15125861 0.14922981 0.13763306 0.14036318 0.12513463\n",
            " 0.12455855 0.14226675 0.12726362 0.12804008 0.13184721 0.14822793\n",
            " 0.12505949 0.12633688 0.11326237 0.11939887 0.09933626 0.08946775\n",
            " 0.10086412 0.09693175 0.10619912 0.08510958 0.07641828 0.07701941\n",
            " 0.09084534 0.08395742 0.08435817 0.09252348 0.107201   0.10519724\n",
            " 0.10487163 0.11113338 0.096531   0.09843456 0.10487163 0.10299311\n",
            " 0.08966813 0.07586725 0.0627176  0.06492173 0.07160927 0.05815905\n",
            " 0.06191609 0.07271133 0.07140889 0.0787226  0.08721353 0.08721353\n",
            " 0.07664371 0.08112711 0.07484033 0.08820945 0.08913901 0.09046349\n",
            " 0.09208858 0.09388103 0.09574293 0.09761816 0.09947968 0.10131653\n",
            " 0.10312529 0.10490532 0.10665686 0.10838029 0.11007589 0.11174408\n",
            " 0.11338528 0.1150001  0.11658917 0.11815333 0.11969346 0.12121043\n",
            " 0.12270518 0.12417862 0.12563169 0.12706521 0.12848003 0.12987688\n",
            " 0.13125645 0.13261934 0.13396619 0.13529742 0.13661358 0.13791505\n",
            " 0.13920212 0.14047524 0.14173466 0.14298066]\n",
            "7 day output [[0.14421354]]\n",
            "8 day input [0.16899186 0.17933626 0.17087038 0.16278021 0.16355667 0.15842204\n",
            " 0.14755166 0.15233563 0.1591985  0.1463995  0.14584847 0.15168441\n",
            " 0.15125861 0.14922981 0.13763306 0.14036318 0.12513463 0.12455855\n",
            " 0.14226675 0.12726362 0.12804008 0.13184721 0.14822793 0.12505949\n",
            " 0.12633688 0.11326237 0.11939887 0.09933626 0.08946775 0.10086412\n",
            " 0.09693175 0.10619912 0.08510958 0.07641828 0.07701941 0.09084534\n",
            " 0.08395742 0.08435817 0.09252348 0.107201   0.10519724 0.10487163\n",
            " 0.11113338 0.096531   0.09843456 0.10487163 0.10299311 0.08966813\n",
            " 0.07586725 0.0627176  0.06492173 0.07160927 0.05815905 0.06191609\n",
            " 0.07271133 0.07140889 0.0787226  0.08721353 0.08721353 0.07664371\n",
            " 0.08112711 0.07484033 0.08820945 0.08913901 0.09046349 0.09208858\n",
            " 0.09388103 0.09574293 0.09761816 0.09947968 0.10131653 0.10312529\n",
            " 0.10490532 0.10665686 0.10838029 0.11007589 0.11174408 0.11338528\n",
            " 0.1150001  0.11658917 0.11815333 0.11969346 0.12121043 0.12270518\n",
            " 0.12417862 0.12563169 0.12706521 0.12848003 0.12987688 0.13125645\n",
            " 0.13261934 0.13396619 0.13529742 0.13661358 0.13791505 0.13920212\n",
            " 0.14047524 0.14173466 0.14298066 0.14421354]\n",
            "8 day output [[0.1454335]]\n",
            "9 day input [0.17933626 0.17087038 0.16278021 0.16355667 0.15842204 0.14755166\n",
            " 0.15233563 0.1591985  0.1463995  0.14584847 0.15168441 0.15125861\n",
            " 0.14922981 0.13763306 0.14036318 0.12513463 0.12455855 0.14226675\n",
            " 0.12726362 0.12804008 0.13184721 0.14822793 0.12505949 0.12633688\n",
            " 0.11326237 0.11939887 0.09933626 0.08946775 0.10086412 0.09693175\n",
            " 0.10619912 0.08510958 0.07641828 0.07701941 0.09084534 0.08395742\n",
            " 0.08435817 0.09252348 0.107201   0.10519724 0.10487163 0.11113338\n",
            " 0.096531   0.09843456 0.10487163 0.10299311 0.08966813 0.07586725\n",
            " 0.0627176  0.06492173 0.07160927 0.05815905 0.06191609 0.07271133\n",
            " 0.07140889 0.0787226  0.08721353 0.08721353 0.07664371 0.08112711\n",
            " 0.07484033 0.08820945 0.08913901 0.09046349 0.09208858 0.09388103\n",
            " 0.09574293 0.09761816 0.09947968 0.10131653 0.10312529 0.10490532\n",
            " 0.10665686 0.10838029 0.11007589 0.11174408 0.11338528 0.1150001\n",
            " 0.11658917 0.11815333 0.11969346 0.12121043 0.12270518 0.12417862\n",
            " 0.12563169 0.12706521 0.12848003 0.12987688 0.13125645 0.13261934\n",
            " 0.13396619 0.13529742 0.13661358 0.13791505 0.13920212 0.14047524\n",
            " 0.14173466 0.14298066 0.14421354 0.1454335 ]\n",
            "9 day output [[0.14664079]]\n",
            "10 day input [0.17087038 0.16278021 0.16355667 0.15842204 0.14755166 0.15233563\n",
            " 0.1591985  0.1463995  0.14584847 0.15168441 0.15125861 0.14922981\n",
            " 0.13763306 0.14036318 0.12513463 0.12455855 0.14226675 0.12726362\n",
            " 0.12804008 0.13184721 0.14822793 0.12505949 0.12633688 0.11326237\n",
            " 0.11939887 0.09933626 0.08946775 0.10086412 0.09693175 0.10619912\n",
            " 0.08510958 0.07641828 0.07701941 0.09084534 0.08395742 0.08435817\n",
            " 0.09252348 0.107201   0.10519724 0.10487163 0.11113338 0.096531\n",
            " 0.09843456 0.10487163 0.10299311 0.08966813 0.07586725 0.0627176\n",
            " 0.06492173 0.07160927 0.05815905 0.06191609 0.07271133 0.07140889\n",
            " 0.0787226  0.08721353 0.08721353 0.07664371 0.08112711 0.07484033\n",
            " 0.08820945 0.08913901 0.09046349 0.09208858 0.09388103 0.09574293\n",
            " 0.09761816 0.09947968 0.10131653 0.10312529 0.10490532 0.10665686\n",
            " 0.10838029 0.11007589 0.11174408 0.11338528 0.1150001  0.11658917\n",
            " 0.11815333 0.11969346 0.12121043 0.12270518 0.12417862 0.12563169\n",
            " 0.12706521 0.12848003 0.12987688 0.13125645 0.13261934 0.13396619\n",
            " 0.13529742 0.13661358 0.13791505 0.13920212 0.14047524 0.14173466\n",
            " 0.14298066 0.14421354 0.1454335  0.14664079]\n",
            "10 day output [[0.14783566]]\n",
            "11 day input [0.16278021 0.16355667 0.15842204 0.14755166 0.15233563 0.1591985\n",
            " 0.1463995  0.14584847 0.15168441 0.15125861 0.14922981 0.13763306\n",
            " 0.14036318 0.12513463 0.12455855 0.14226675 0.12726362 0.12804008\n",
            " 0.13184721 0.14822793 0.12505949 0.12633688 0.11326237 0.11939887\n",
            " 0.09933626 0.08946775 0.10086412 0.09693175 0.10619912 0.08510958\n",
            " 0.07641828 0.07701941 0.09084534 0.08395742 0.08435817 0.09252348\n",
            " 0.107201   0.10519724 0.10487163 0.11113338 0.096531   0.09843456\n",
            " 0.10487163 0.10299311 0.08966813 0.07586725 0.0627176  0.06492173\n",
            " 0.07160927 0.05815905 0.06191609 0.07271133 0.07140889 0.0787226\n",
            " 0.08721353 0.08721353 0.07664371 0.08112711 0.07484033 0.08820945\n",
            " 0.08913901 0.09046349 0.09208858 0.09388103 0.09574293 0.09761816\n",
            " 0.09947968 0.10131653 0.10312529 0.10490532 0.10665686 0.10838029\n",
            " 0.11007589 0.11174408 0.11338528 0.1150001  0.11658917 0.11815333\n",
            " 0.11969346 0.12121043 0.12270518 0.12417862 0.12563169 0.12706521\n",
            " 0.12848003 0.12987688 0.13125645 0.13261934 0.13396619 0.13529742\n",
            " 0.13661358 0.13791505 0.13920212 0.14047524 0.14173466 0.14298066\n",
            " 0.14421354 0.1454335  0.14664079 0.14783566]\n",
            "11 day output [[0.14901827]]\n",
            "12 day input [0.16355667 0.15842204 0.14755166 0.15233563 0.1591985  0.1463995\n",
            " 0.14584847 0.15168441 0.15125861 0.14922981 0.13763306 0.14036318\n",
            " 0.12513463 0.12455855 0.14226675 0.12726362 0.12804008 0.13184721\n",
            " 0.14822793 0.12505949 0.12633688 0.11326237 0.11939887 0.09933626\n",
            " 0.08946775 0.10086412 0.09693175 0.10619912 0.08510958 0.07641828\n",
            " 0.07701941 0.09084534 0.08395742 0.08435817 0.09252348 0.107201\n",
            " 0.10519724 0.10487163 0.11113338 0.096531   0.09843456 0.10487163\n",
            " 0.10299311 0.08966813 0.07586725 0.0627176  0.06492173 0.07160927\n",
            " 0.05815905 0.06191609 0.07271133 0.07140889 0.0787226  0.08721353\n",
            " 0.08721353 0.07664371 0.08112711 0.07484033 0.08820945 0.08913901\n",
            " 0.09046349 0.09208858 0.09388103 0.09574293 0.09761816 0.09947968\n",
            " 0.10131653 0.10312529 0.10490532 0.10665686 0.10838029 0.11007589\n",
            " 0.11174408 0.11338528 0.1150001  0.11658917 0.11815333 0.11969346\n",
            " 0.12121043 0.12270518 0.12417862 0.12563169 0.12706521 0.12848003\n",
            " 0.12987688 0.13125645 0.13261934 0.13396619 0.13529742 0.13661358\n",
            " 0.13791505 0.13920212 0.14047524 0.14173466 0.14298066 0.14421354\n",
            " 0.1454335  0.14664079 0.14783566 0.14901827]\n",
            "12 day output [[0.15018892]]\n",
            "13 day input [0.15842204 0.14755166 0.15233563 0.1591985  0.1463995  0.14584847\n",
            " 0.15168441 0.15125861 0.14922981 0.13763306 0.14036318 0.12513463\n",
            " 0.12455855 0.14226675 0.12726362 0.12804008 0.13184721 0.14822793\n",
            " 0.12505949 0.12633688 0.11326237 0.11939887 0.09933626 0.08946775\n",
            " 0.10086412 0.09693175 0.10619912 0.08510958 0.07641828 0.07701941\n",
            " 0.09084534 0.08395742 0.08435817 0.09252348 0.107201   0.10519724\n",
            " 0.10487163 0.11113338 0.096531   0.09843456 0.10487163 0.10299311\n",
            " 0.08966813 0.07586725 0.0627176  0.06492173 0.07160927 0.05815905\n",
            " 0.06191609 0.07271133 0.07140889 0.0787226  0.08721353 0.08721353\n",
            " 0.07664371 0.08112711 0.07484033 0.08820945 0.08913901 0.09046349\n",
            " 0.09208858 0.09388103 0.09574293 0.09761816 0.09947968 0.10131653\n",
            " 0.10312529 0.10490532 0.10665686 0.10838029 0.11007589 0.11174408\n",
            " 0.11338528 0.1150001  0.11658917 0.11815333 0.11969346 0.12121043\n",
            " 0.12270518 0.12417862 0.12563169 0.12706521 0.12848003 0.12987688\n",
            " 0.13125645 0.13261934 0.13396619 0.13529742 0.13661358 0.13791505\n",
            " 0.13920212 0.14047524 0.14173466 0.14298066 0.14421354 0.1454335\n",
            " 0.14664079 0.14783566 0.14901827 0.15018892]\n",
            "13 day output [[0.15134779]]\n",
            "14 day input [0.14755166 0.15233563 0.1591985  0.1463995  0.14584847 0.15168441\n",
            " 0.15125861 0.14922981 0.13763306 0.14036318 0.12513463 0.12455855\n",
            " 0.14226675 0.12726362 0.12804008 0.13184721 0.14822793 0.12505949\n",
            " 0.12633688 0.11326237 0.11939887 0.09933626 0.08946775 0.10086412\n",
            " 0.09693175 0.10619912 0.08510958 0.07641828 0.07701941 0.09084534\n",
            " 0.08395742 0.08435817 0.09252348 0.107201   0.10519724 0.10487163\n",
            " 0.11113338 0.096531   0.09843456 0.10487163 0.10299311 0.08966813\n",
            " 0.07586725 0.0627176  0.06492173 0.07160927 0.05815905 0.06191609\n",
            " 0.07271133 0.07140889 0.0787226  0.08721353 0.08721353 0.07664371\n",
            " 0.08112711 0.07484033 0.08820945 0.08913901 0.09046349 0.09208858\n",
            " 0.09388103 0.09574293 0.09761816 0.09947968 0.10131653 0.10312529\n",
            " 0.10490532 0.10665686 0.10838029 0.11007589 0.11174408 0.11338528\n",
            " 0.1150001  0.11658917 0.11815333 0.11969346 0.12121043 0.12270518\n",
            " 0.12417862 0.12563169 0.12706521 0.12848003 0.12987688 0.13125645\n",
            " 0.13261934 0.13396619 0.13529742 0.13661358 0.13791505 0.13920212\n",
            " 0.14047524 0.14173466 0.14298066 0.14421354 0.1454335  0.14664079\n",
            " 0.14783566 0.14901827 0.15018892 0.15134779]\n",
            "14 day output [[0.15249507]]\n",
            "15 day input [0.15233563 0.1591985  0.1463995  0.14584847 0.15168441 0.15125861\n",
            " 0.14922981 0.13763306 0.14036318 0.12513463 0.12455855 0.14226675\n",
            " 0.12726362 0.12804008 0.13184721 0.14822793 0.12505949 0.12633688\n",
            " 0.11326237 0.11939887 0.09933626 0.08946775 0.10086412 0.09693175\n",
            " 0.10619912 0.08510958 0.07641828 0.07701941 0.09084534 0.08395742\n",
            " 0.08435817 0.09252348 0.107201   0.10519724 0.10487163 0.11113338\n",
            " 0.096531   0.09843456 0.10487163 0.10299311 0.08966813 0.07586725\n",
            " 0.0627176  0.06492173 0.07160927 0.05815905 0.06191609 0.07271133\n",
            " 0.07140889 0.0787226  0.08721353 0.08721353 0.07664371 0.08112711\n",
            " 0.07484033 0.08820945 0.08913901 0.09046349 0.09208858 0.09388103\n",
            " 0.09574293 0.09761816 0.09947968 0.10131653 0.10312529 0.10490532\n",
            " 0.10665686 0.10838029 0.11007589 0.11174408 0.11338528 0.1150001\n",
            " 0.11658917 0.11815333 0.11969346 0.12121043 0.12270518 0.12417862\n",
            " 0.12563169 0.12706521 0.12848003 0.12987688 0.13125645 0.13261934\n",
            " 0.13396619 0.13529742 0.13661358 0.13791505 0.13920212 0.14047524\n",
            " 0.14173466 0.14298066 0.14421354 0.1454335  0.14664079 0.14783566\n",
            " 0.14901827 0.15018892 0.15134779 0.15249507]\n",
            "15 day output [[0.153631]]\n",
            "16 day input [0.1591985  0.1463995  0.14584847 0.15168441 0.15125861 0.14922981\n",
            " 0.13763306 0.14036318 0.12513463 0.12455855 0.14226675 0.12726362\n",
            " 0.12804008 0.13184721 0.14822793 0.12505949 0.12633688 0.11326237\n",
            " 0.11939887 0.09933626 0.08946775 0.10086412 0.09693175 0.10619912\n",
            " 0.08510958 0.07641828 0.07701941 0.09084534 0.08395742 0.08435817\n",
            " 0.09252348 0.107201   0.10519724 0.10487163 0.11113338 0.096531\n",
            " 0.09843456 0.10487163 0.10299311 0.08966813 0.07586725 0.0627176\n",
            " 0.06492173 0.07160927 0.05815905 0.06191609 0.07271133 0.07140889\n",
            " 0.0787226  0.08721353 0.08721353 0.07664371 0.08112711 0.07484033\n",
            " 0.08820945 0.08913901 0.09046349 0.09208858 0.09388103 0.09574293\n",
            " 0.09761816 0.09947968 0.10131653 0.10312529 0.10490532 0.10665686\n",
            " 0.10838029 0.11007589 0.11174408 0.11338528 0.1150001  0.11658917\n",
            " 0.11815333 0.11969346 0.12121043 0.12270518 0.12417862 0.12563169\n",
            " 0.12706521 0.12848003 0.12987688 0.13125645 0.13261934 0.13396619\n",
            " 0.13529742 0.13661358 0.13791505 0.13920212 0.14047524 0.14173466\n",
            " 0.14298066 0.14421354 0.1454335  0.14664079 0.14783566 0.14901827\n",
            " 0.15018892 0.15134779 0.15249507 0.153631  ]\n",
            "16 day output [[0.1547558]]\n",
            "17 day input [0.1463995  0.14584847 0.15168441 0.15125861 0.14922981 0.13763306\n",
            " 0.14036318 0.12513463 0.12455855 0.14226675 0.12726362 0.12804008\n",
            " 0.13184721 0.14822793 0.12505949 0.12633688 0.11326237 0.11939887\n",
            " 0.09933626 0.08946775 0.10086412 0.09693175 0.10619912 0.08510958\n",
            " 0.07641828 0.07701941 0.09084534 0.08395742 0.08435817 0.09252348\n",
            " 0.107201   0.10519724 0.10487163 0.11113338 0.096531   0.09843456\n",
            " 0.10487163 0.10299311 0.08966813 0.07586725 0.0627176  0.06492173\n",
            " 0.07160927 0.05815905 0.06191609 0.07271133 0.07140889 0.0787226\n",
            " 0.08721353 0.08721353 0.07664371 0.08112711 0.07484033 0.08820945\n",
            " 0.08913901 0.09046349 0.09208858 0.09388103 0.09574293 0.09761816\n",
            " 0.09947968 0.10131653 0.10312529 0.10490532 0.10665686 0.10838029\n",
            " 0.11007589 0.11174408 0.11338528 0.1150001  0.11658917 0.11815333\n",
            " 0.11969346 0.12121043 0.12270518 0.12417862 0.12563169 0.12706521\n",
            " 0.12848003 0.12987688 0.13125645 0.13261934 0.13396619 0.13529742\n",
            " 0.13661358 0.13791505 0.13920212 0.14047524 0.14173466 0.14298066\n",
            " 0.14421354 0.1454335  0.14664079 0.14783566 0.14901827 0.15018892\n",
            " 0.15134779 0.15249507 0.153631   0.1547558 ]\n",
            "17 day output [[0.15586968]]\n",
            "18 day input [0.14584847 0.15168441 0.15125861 0.14922981 0.13763306 0.14036318\n",
            " 0.12513463 0.12455855 0.14226675 0.12726362 0.12804008 0.13184721\n",
            " 0.14822793 0.12505949 0.12633688 0.11326237 0.11939887 0.09933626\n",
            " 0.08946775 0.10086412 0.09693175 0.10619912 0.08510958 0.07641828\n",
            " 0.07701941 0.09084534 0.08395742 0.08435817 0.09252348 0.107201\n",
            " 0.10519724 0.10487163 0.11113338 0.096531   0.09843456 0.10487163\n",
            " 0.10299311 0.08966813 0.07586725 0.0627176  0.06492173 0.07160927\n",
            " 0.05815905 0.06191609 0.07271133 0.07140889 0.0787226  0.08721353\n",
            " 0.08721353 0.07664371 0.08112711 0.07484033 0.08820945 0.08913901\n",
            " 0.09046349 0.09208858 0.09388103 0.09574293 0.09761816 0.09947968\n",
            " 0.10131653 0.10312529 0.10490532 0.10665686 0.10838029 0.11007589\n",
            " 0.11174408 0.11338528 0.1150001  0.11658917 0.11815333 0.11969346\n",
            " 0.12121043 0.12270518 0.12417862 0.12563169 0.12706521 0.12848003\n",
            " 0.12987688 0.13125645 0.13261934 0.13396619 0.13529742 0.13661358\n",
            " 0.13791505 0.13920212 0.14047524 0.14173466 0.14298066 0.14421354\n",
            " 0.1454335  0.14664079 0.14783566 0.14901827 0.15018892 0.15134779\n",
            " 0.15249507 0.153631   0.1547558  0.15586968]\n",
            "18 day output [[0.15697283]]\n",
            "19 day input [0.15168441 0.15125861 0.14922981 0.13763306 0.14036318 0.12513463\n",
            " 0.12455855 0.14226675 0.12726362 0.12804008 0.13184721 0.14822793\n",
            " 0.12505949 0.12633688 0.11326237 0.11939887 0.09933626 0.08946775\n",
            " 0.10086412 0.09693175 0.10619912 0.08510958 0.07641828 0.07701941\n",
            " 0.09084534 0.08395742 0.08435817 0.09252348 0.107201   0.10519724\n",
            " 0.10487163 0.11113338 0.096531   0.09843456 0.10487163 0.10299311\n",
            " 0.08966813 0.07586725 0.0627176  0.06492173 0.07160927 0.05815905\n",
            " 0.06191609 0.07271133 0.07140889 0.0787226  0.08721353 0.08721353\n",
            " 0.07664371 0.08112711 0.07484033 0.08820945 0.08913901 0.09046349\n",
            " 0.09208858 0.09388103 0.09574293 0.09761816 0.09947968 0.10131653\n",
            " 0.10312529 0.10490532 0.10665686 0.10838029 0.11007589 0.11174408\n",
            " 0.11338528 0.1150001  0.11658917 0.11815333 0.11969346 0.12121043\n",
            " 0.12270518 0.12417862 0.12563169 0.12706521 0.12848003 0.12987688\n",
            " 0.13125645 0.13261934 0.13396619 0.13529742 0.13661358 0.13791505\n",
            " 0.13920212 0.14047524 0.14173466 0.14298066 0.14421354 0.1454335\n",
            " 0.14664079 0.14783566 0.14901827 0.15018892 0.15134779 0.15249507\n",
            " 0.153631   0.1547558  0.15586968 0.15697283]\n",
            "19 day output [[0.1580655]]\n",
            "20 day input [0.15125861 0.14922981 0.13763306 0.14036318 0.12513463 0.12455855\n",
            " 0.14226675 0.12726362 0.12804008 0.13184721 0.14822793 0.12505949\n",
            " 0.12633688 0.11326237 0.11939887 0.09933626 0.08946775 0.10086412\n",
            " 0.09693175 0.10619912 0.08510958 0.07641828 0.07701941 0.09084534\n",
            " 0.08395742 0.08435817 0.09252348 0.107201   0.10519724 0.10487163\n",
            " 0.11113338 0.096531   0.09843456 0.10487163 0.10299311 0.08966813\n",
            " 0.07586725 0.0627176  0.06492173 0.07160927 0.05815905 0.06191609\n",
            " 0.07271133 0.07140889 0.0787226  0.08721353 0.08721353 0.07664371\n",
            " 0.08112711 0.07484033 0.08820945 0.08913901 0.09046349 0.09208858\n",
            " 0.09388103 0.09574293 0.09761816 0.09947968 0.10131653 0.10312529\n",
            " 0.10490532 0.10665686 0.10838029 0.11007589 0.11174408 0.11338528\n",
            " 0.1150001  0.11658917 0.11815333 0.11969346 0.12121043 0.12270518\n",
            " 0.12417862 0.12563169 0.12706521 0.12848003 0.12987688 0.13125645\n",
            " 0.13261934 0.13396619 0.13529742 0.13661358 0.13791505 0.13920212\n",
            " 0.14047524 0.14173466 0.14298066 0.14421354 0.1454335  0.14664079\n",
            " 0.14783566 0.14901827 0.15018892 0.15134779 0.15249507 0.153631\n",
            " 0.1547558  0.15586968 0.15697283 0.1580655 ]\n",
            "20 day output [[0.15914787]]\n",
            "21 day input [0.14922981 0.13763306 0.14036318 0.12513463 0.12455855 0.14226675\n",
            " 0.12726362 0.12804008 0.13184721 0.14822793 0.12505949 0.12633688\n",
            " 0.11326237 0.11939887 0.09933626 0.08946775 0.10086412 0.09693175\n",
            " 0.10619912 0.08510958 0.07641828 0.07701941 0.09084534 0.08395742\n",
            " 0.08435817 0.09252348 0.107201   0.10519724 0.10487163 0.11113338\n",
            " 0.096531   0.09843456 0.10487163 0.10299311 0.08966813 0.07586725\n",
            " 0.0627176  0.06492173 0.07160927 0.05815905 0.06191609 0.07271133\n",
            " 0.07140889 0.0787226  0.08721353 0.08721353 0.07664371 0.08112711\n",
            " 0.07484033 0.08820945 0.08913901 0.09046349 0.09208858 0.09388103\n",
            " 0.09574293 0.09761816 0.09947968 0.10131653 0.10312529 0.10490532\n",
            " 0.10665686 0.10838029 0.11007589 0.11174408 0.11338528 0.1150001\n",
            " 0.11658917 0.11815333 0.11969346 0.12121043 0.12270518 0.12417862\n",
            " 0.12563169 0.12706521 0.12848003 0.12987688 0.13125645 0.13261934\n",
            " 0.13396619 0.13529742 0.13661358 0.13791505 0.13920212 0.14047524\n",
            " 0.14173466 0.14298066 0.14421354 0.1454335  0.14664079 0.14783566\n",
            " 0.14901827 0.15018892 0.15134779 0.15249507 0.153631   0.1547558\n",
            " 0.15586968 0.15697283 0.1580655  0.15914787]\n",
            "21 day output [[0.16022019]]\n",
            "22 day input [0.13763306 0.14036318 0.12513463 0.12455855 0.14226675 0.12726362\n",
            " 0.12804008 0.13184721 0.14822793 0.12505949 0.12633688 0.11326237\n",
            " 0.11939887 0.09933626 0.08946775 0.10086412 0.09693175 0.10619912\n",
            " 0.08510958 0.07641828 0.07701941 0.09084534 0.08395742 0.08435817\n",
            " 0.09252348 0.107201   0.10519724 0.10487163 0.11113338 0.096531\n",
            " 0.09843456 0.10487163 0.10299311 0.08966813 0.07586725 0.0627176\n",
            " 0.06492173 0.07160927 0.05815905 0.06191609 0.07271133 0.07140889\n",
            " 0.0787226  0.08721353 0.08721353 0.07664371 0.08112711 0.07484033\n",
            " 0.08820945 0.08913901 0.09046349 0.09208858 0.09388103 0.09574293\n",
            " 0.09761816 0.09947968 0.10131653 0.10312529 0.10490532 0.10665686\n",
            " 0.10838029 0.11007589 0.11174408 0.11338528 0.1150001  0.11658917\n",
            " 0.11815333 0.11969346 0.12121043 0.12270518 0.12417862 0.12563169\n",
            " 0.12706521 0.12848003 0.12987688 0.13125645 0.13261934 0.13396619\n",
            " 0.13529742 0.13661358 0.13791505 0.13920212 0.14047524 0.14173466\n",
            " 0.14298066 0.14421354 0.1454335  0.14664079 0.14783566 0.14901827\n",
            " 0.15018892 0.15134779 0.15249507 0.153631   0.1547558  0.15586968\n",
            " 0.15697283 0.1580655  0.15914787 0.16022019]\n",
            "22 day output [[0.16128263]]\n",
            "23 day input [0.14036318 0.12513463 0.12455855 0.14226675 0.12726362 0.12804008\n",
            " 0.13184721 0.14822793 0.12505949 0.12633688 0.11326237 0.11939887\n",
            " 0.09933626 0.08946775 0.10086412 0.09693175 0.10619912 0.08510958\n",
            " 0.07641828 0.07701941 0.09084534 0.08395742 0.08435817 0.09252348\n",
            " 0.107201   0.10519724 0.10487163 0.11113338 0.096531   0.09843456\n",
            " 0.10487163 0.10299311 0.08966813 0.07586725 0.0627176  0.06492173\n",
            " 0.07160927 0.05815905 0.06191609 0.07271133 0.07140889 0.0787226\n",
            " 0.08721353 0.08721353 0.07664371 0.08112711 0.07484033 0.08820945\n",
            " 0.08913901 0.09046349 0.09208858 0.09388103 0.09574293 0.09761816\n",
            " 0.09947968 0.10131653 0.10312529 0.10490532 0.10665686 0.10838029\n",
            " 0.11007589 0.11174408 0.11338528 0.1150001  0.11658917 0.11815333\n",
            " 0.11969346 0.12121043 0.12270518 0.12417862 0.12563169 0.12706521\n",
            " 0.12848003 0.12987688 0.13125645 0.13261934 0.13396619 0.13529742\n",
            " 0.13661358 0.13791505 0.13920212 0.14047524 0.14173466 0.14298066\n",
            " 0.14421354 0.1454335  0.14664079 0.14783566 0.14901827 0.15018892\n",
            " 0.15134779 0.15249507 0.153631   0.1547558  0.15586968 0.15697283\n",
            " 0.1580655  0.15914787 0.16022019 0.16128263]\n",
            "23 day output [[0.16233546]]\n",
            "24 day input [0.12513463 0.12455855 0.14226675 0.12726362 0.12804008 0.13184721\n",
            " 0.14822793 0.12505949 0.12633688 0.11326237 0.11939887 0.09933626\n",
            " 0.08946775 0.10086412 0.09693175 0.10619912 0.08510958 0.07641828\n",
            " 0.07701941 0.09084534 0.08395742 0.08435817 0.09252348 0.107201\n",
            " 0.10519724 0.10487163 0.11113338 0.096531   0.09843456 0.10487163\n",
            " 0.10299311 0.08966813 0.07586725 0.0627176  0.06492173 0.07160927\n",
            " 0.05815905 0.06191609 0.07271133 0.07140889 0.0787226  0.08721353\n",
            " 0.08721353 0.07664371 0.08112711 0.07484033 0.08820945 0.08913901\n",
            " 0.09046349 0.09208858 0.09388103 0.09574293 0.09761816 0.09947968\n",
            " 0.10131653 0.10312529 0.10490532 0.10665686 0.10838029 0.11007589\n",
            " 0.11174408 0.11338528 0.1150001  0.11658917 0.11815333 0.11969346\n",
            " 0.12121043 0.12270518 0.12417862 0.12563169 0.12706521 0.12848003\n",
            " 0.12987688 0.13125645 0.13261934 0.13396619 0.13529742 0.13661358\n",
            " 0.13791505 0.13920212 0.14047524 0.14173466 0.14298066 0.14421354\n",
            " 0.1454335  0.14664079 0.14783566 0.14901827 0.15018892 0.15134779\n",
            " 0.15249507 0.153631   0.1547558  0.15586968 0.15697283 0.1580655\n",
            " 0.15914787 0.16022019 0.16128263 0.16233546]\n",
            "24 day output [[0.16337875]]\n",
            "25 day input [0.12455855 0.14226675 0.12726362 0.12804008 0.13184721 0.14822793\n",
            " 0.12505949 0.12633688 0.11326237 0.11939887 0.09933626 0.08946775\n",
            " 0.10086412 0.09693175 0.10619912 0.08510958 0.07641828 0.07701941\n",
            " 0.09084534 0.08395742 0.08435817 0.09252348 0.107201   0.10519724\n",
            " 0.10487163 0.11113338 0.096531   0.09843456 0.10487163 0.10299311\n",
            " 0.08966813 0.07586725 0.0627176  0.06492173 0.07160927 0.05815905\n",
            " 0.06191609 0.07271133 0.07140889 0.0787226  0.08721353 0.08721353\n",
            " 0.07664371 0.08112711 0.07484033 0.08820945 0.08913901 0.09046349\n",
            " 0.09208858 0.09388103 0.09574293 0.09761816 0.09947968 0.10131653\n",
            " 0.10312529 0.10490532 0.10665686 0.10838029 0.11007589 0.11174408\n",
            " 0.11338528 0.1150001  0.11658917 0.11815333 0.11969346 0.12121043\n",
            " 0.12270518 0.12417862 0.12563169 0.12706521 0.12848003 0.12987688\n",
            " 0.13125645 0.13261934 0.13396619 0.13529742 0.13661358 0.13791505\n",
            " 0.13920212 0.14047524 0.14173466 0.14298066 0.14421354 0.1454335\n",
            " 0.14664079 0.14783566 0.14901827 0.15018892 0.15134779 0.15249507\n",
            " 0.153631   0.1547558  0.15586968 0.15697283 0.1580655  0.15914787\n",
            " 0.16022019 0.16128263 0.16233546 0.16337875]\n",
            "25 day output [[0.16441287]]\n",
            "26 day input [0.14226675 0.12726362 0.12804008 0.13184721 0.14822793 0.12505949\n",
            " 0.12633688 0.11326237 0.11939887 0.09933626 0.08946775 0.10086412\n",
            " 0.09693175 0.10619912 0.08510958 0.07641828 0.07701941 0.09084534\n",
            " 0.08395742 0.08435817 0.09252348 0.107201   0.10519724 0.10487163\n",
            " 0.11113338 0.096531   0.09843456 0.10487163 0.10299311 0.08966813\n",
            " 0.07586725 0.0627176  0.06492173 0.07160927 0.05815905 0.06191609\n",
            " 0.07271133 0.07140889 0.0787226  0.08721353 0.08721353 0.07664371\n",
            " 0.08112711 0.07484033 0.08820945 0.08913901 0.09046349 0.09208858\n",
            " 0.09388103 0.09574293 0.09761816 0.09947968 0.10131653 0.10312529\n",
            " 0.10490532 0.10665686 0.10838029 0.11007589 0.11174408 0.11338528\n",
            " 0.1150001  0.11658917 0.11815333 0.11969346 0.12121043 0.12270518\n",
            " 0.12417862 0.12563169 0.12706521 0.12848003 0.12987688 0.13125645\n",
            " 0.13261934 0.13396619 0.13529742 0.13661358 0.13791505 0.13920212\n",
            " 0.14047524 0.14173466 0.14298066 0.14421354 0.1454335  0.14664079\n",
            " 0.14783566 0.14901827 0.15018892 0.15134779 0.15249507 0.153631\n",
            " 0.1547558  0.15586968 0.15697283 0.1580655  0.15914787 0.16022019\n",
            " 0.16128263 0.16233546 0.16337875 0.16441287]\n",
            "26 day output [[0.1654379]]\n",
            "27 day input [0.12726362 0.12804008 0.13184721 0.14822793 0.12505949 0.12633688\n",
            " 0.11326237 0.11939887 0.09933626 0.08946775 0.10086412 0.09693175\n",
            " 0.10619912 0.08510958 0.07641828 0.07701941 0.09084534 0.08395742\n",
            " 0.08435817 0.09252348 0.107201   0.10519724 0.10487163 0.11113338\n",
            " 0.096531   0.09843456 0.10487163 0.10299311 0.08966813 0.07586725\n",
            " 0.0627176  0.06492173 0.07160927 0.05815905 0.06191609 0.07271133\n",
            " 0.07140889 0.0787226  0.08721353 0.08721353 0.07664371 0.08112711\n",
            " 0.07484033 0.08820945 0.08913901 0.09046349 0.09208858 0.09388103\n",
            " 0.09574293 0.09761816 0.09947968 0.10131653 0.10312529 0.10490532\n",
            " 0.10665686 0.10838029 0.11007589 0.11174408 0.11338528 0.1150001\n",
            " 0.11658917 0.11815333 0.11969346 0.12121043 0.12270518 0.12417862\n",
            " 0.12563169 0.12706521 0.12848003 0.12987688 0.13125645 0.13261934\n",
            " 0.13396619 0.13529742 0.13661358 0.13791505 0.13920212 0.14047524\n",
            " 0.14173466 0.14298066 0.14421354 0.1454335  0.14664079 0.14783566\n",
            " 0.14901827 0.15018892 0.15134779 0.15249507 0.153631   0.1547558\n",
            " 0.15586968 0.15697283 0.1580655  0.15914787 0.16022019 0.16128263\n",
            " 0.16233546 0.16337875 0.16441287 0.16543791]\n",
            "27 day output [[0.16645412]]\n",
            "28 day input [0.12804008 0.13184721 0.14822793 0.12505949 0.12633688 0.11326237\n",
            " 0.11939887 0.09933626 0.08946775 0.10086412 0.09693175 0.10619912\n",
            " 0.08510958 0.07641828 0.07701941 0.09084534 0.08395742 0.08435817\n",
            " 0.09252348 0.107201   0.10519724 0.10487163 0.11113338 0.096531\n",
            " 0.09843456 0.10487163 0.10299311 0.08966813 0.07586725 0.0627176\n",
            " 0.06492173 0.07160927 0.05815905 0.06191609 0.07271133 0.07140889\n",
            " 0.0787226  0.08721353 0.08721353 0.07664371 0.08112711 0.07484033\n",
            " 0.08820945 0.08913901 0.09046349 0.09208858 0.09388103 0.09574293\n",
            " 0.09761816 0.09947968 0.10131653 0.10312529 0.10490532 0.10665686\n",
            " 0.10838029 0.11007589 0.11174408 0.11338528 0.1150001  0.11658917\n",
            " 0.11815333 0.11969346 0.12121043 0.12270518 0.12417862 0.12563169\n",
            " 0.12706521 0.12848003 0.12987688 0.13125645 0.13261934 0.13396619\n",
            " 0.13529742 0.13661358 0.13791505 0.13920212 0.14047524 0.14173466\n",
            " 0.14298066 0.14421354 0.1454335  0.14664079 0.14783566 0.14901827\n",
            " 0.15018892 0.15134779 0.15249507 0.153631   0.1547558  0.15586968\n",
            " 0.15697283 0.1580655  0.15914787 0.16022019 0.16128263 0.16233546\n",
            " 0.16337875 0.16441287 0.16543791 0.16645412]\n",
            "28 day output [[0.16746162]]\n",
            "29 day input [0.13184721 0.14822793 0.12505949 0.12633688 0.11326237 0.11939887\n",
            " 0.09933626 0.08946775 0.10086412 0.09693175 0.10619912 0.08510958\n",
            " 0.07641828 0.07701941 0.09084534 0.08395742 0.08435817 0.09252348\n",
            " 0.107201   0.10519724 0.10487163 0.11113338 0.096531   0.09843456\n",
            " 0.10487163 0.10299311 0.08966813 0.07586725 0.0627176  0.06492173\n",
            " 0.07160927 0.05815905 0.06191609 0.07271133 0.07140889 0.0787226\n",
            " 0.08721353 0.08721353 0.07664371 0.08112711 0.07484033 0.08820945\n",
            " 0.08913901 0.09046349 0.09208858 0.09388103 0.09574293 0.09761816\n",
            " 0.09947968 0.10131653 0.10312529 0.10490532 0.10665686 0.10838029\n",
            " 0.11007589 0.11174408 0.11338528 0.1150001  0.11658917 0.11815333\n",
            " 0.11969346 0.12121043 0.12270518 0.12417862 0.12563169 0.12706521\n",
            " 0.12848003 0.12987688 0.13125645 0.13261934 0.13396619 0.13529742\n",
            " 0.13661358 0.13791505 0.13920212 0.14047524 0.14173466 0.14298066\n",
            " 0.14421354 0.1454335  0.14664079 0.14783566 0.14901827 0.15018892\n",
            " 0.15134779 0.15249507 0.153631   0.1547558  0.15586968 0.15697283\n",
            " 0.1580655  0.15914787 0.16022019 0.16128263 0.16233546 0.16337875\n",
            " 0.16441287 0.16543791 0.16645412 0.16746162]\n",
            "29 day output [[0.16846073]]\n",
            "[[0.13529741764068604], [0.13661357760429382], [0.13791504502296448], [0.13920211791992188], [0.14047524333000183], [0.14173465967178345], [0.1429806649684906], [0.14421354234218597], [0.14543350040912628], [0.14664079248905182], [0.1478356570005417], [0.1490182727575302], [0.15018892288208008], [0.1513477861881256], [0.15249507129192352], [0.15363100171089172], [0.15475580096244812], [0.15586967766284943], [0.15697282552719116], [0.15806549787521362], [0.15914787352085114], [0.1602201908826828], [0.16128262877464294], [0.16233545541763306], [0.1633787453174591], [0.16441287100315094], [0.16543790698051453], [0.16645412147045135], [0.16746161878108978], [0.16846072673797607]]\n"
          ]
        }
      ]
    },
    {
      "cell_type": "code",
      "source": [
        "day_new=np.arange(1,101)\n",
        "day_pred=np.arange(101,131)"
      ],
      "metadata": {
        "id": "GaTzL5mJM7De"
      },
      "execution_count": null,
      "outputs": []
    },
    {
      "cell_type": "code",
      "source": [
        "import matplotlib.pyplot as plt\n"
      ],
      "metadata": {
        "id": "FgFsEEC5M7lQ"
      },
      "execution_count": null,
      "outputs": []
    },
    {
      "cell_type": "code",
      "source": [
        "plt.plot(day_new,scaler.inverse_transform(df1[1158:]))\n",
        "plt.plot(day_pred,scaler.inverse_transform(lst_output))"
      ],
      "metadata": {
        "colab": {
          "base_uri": "https://localhost:8080/",
          "height": 282
        },
        "id": "gF5GOsEpM_eJ",
        "outputId": "d5db1098-052d-4948-8a95-68f50a36fb9e"
      },
      "execution_count": null,
      "outputs": [
        {
          "output_type": "execute_result",
          "data": {
            "text/plain": [
              "[<matplotlib.lines.Line2D at 0x7f177cdede10>]"
            ]
          },
          "metadata": {},
          "execution_count": 51
        },
        {
          "output_type": "display_data",
          "data": {
            "text/plain": [
              "<Figure size 432x288 with 1 Axes>"
            ],
            "image/png": "[encoded data removed]"
          },
          "metadata": {
            "needs_background": "light"
          }
        }
      ]
    },
    {
      "cell_type": "code",
      "source": [
        "df3=df1.tolist()\n",
        "df3.extend(lst_output)\n",
        "plt.plot(df3[1200:])\n"
      ],
      "metadata": {
        "colab": {
          "base_uri": "https://localhost:8080/",
          "height": 282
        },
        "id": "KTn5S1lxNA3F",
        "outputId": "98e3371b-6b28-4ffd-9cef-d2e2f35df9c4"
      },
      "execution_count": null,
      "outputs": [
        {
          "output_type": "execute_result",
          "data": {
            "text/plain": [
              "[<matplotlib.lines.Line2D at 0x7f1778155950>]"
            ]
          },
          "metadata": {},
          "execution_count": 52
        },
        {
          "output_type": "display_data",
          "data": {
            "text/plain": [
              "<Figure size 432x288 with 1 Axes>"
            ],
            "image/png": "[encoded data removed]"
          },
          "metadata": {
            "needs_background": "light"
          }
        }
      ]
    },
    {
      "cell_type": "code",
      "source": [
        "df3=scaler.inverse_transform(df3).tolist()"
      ],
      "metadata": {
        "id": "QfFmpHP2NCiB"
      },
      "execution_count": null,
      "outputs": []
    },
    {
      "cell_type": "code",
      "source": [
        "plt.plot(df3)\n"
      ],
      "metadata": {
        "colab": {
          "base_uri": "https://localhost:8080/",
          "height": 282
        },
        "id": "xyWOchFNNEZa",
        "outputId": "4f4e58a0-8cd5-4cdb-b90d-4bc8195f5c49"
      },
      "execution_count": null,
      "outputs": [
        {
          "output_type": "execute_result",
          "data": {
            "text/plain": [
              "[<matplotlib.lines.Line2D at 0x7f177ceb0e10>]"
            ]
          },
          "metadata": {},
          "execution_count": 54
        },
        {
          "output_type": "display_data",
          "data": {
            "text/plain": [
              "<Figure size 432x288 with 1 Axes>"
            ],
            "image/png": "[encoded data removed]"
          },
          "metadata": {
            "needs_background": "light"
          }
        }
      ]
    },
    {
      "cell_type": "code",
      "source": [
        ""
      ],
      "metadata": {
        "id": "f1foFssLNF9J"
      },
      "execution_count": null,
      "outputs": []
    }
  ]
}